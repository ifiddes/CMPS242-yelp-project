{
 "cells": [
  {
   "cell_type": "code",
   "execution_count": 2,
   "metadata": {
    "collapsed": true
   },
   "outputs": [],
   "source": [
    "import json\n",
    "import pandas as pd\n",
    "import datetime"
   ]
  },
  {
   "cell_type": "code",
   "execution_count": null,
   "metadata": {
    "collapsed": false
   },
   "outputs": [],
   "source": [
    "with open('data/yelp_academic_dataset_business.json') as f:\n",
    "     business_data = pd.DataFrame(json.loads(line) for line in f)\n",
    "        \n",
    "with open('data/yelp_academic_dataset_user.json') as f:\n",
    "     user_data = pd.DataFrame(json.loads(line) for line in f)\n",
    "        \n",
    "#with open('yelp_academic_dataset_review.json') as f:\n",
    "#     review_data = pd.DataFrame(json.loads(line) for line in f)\n",
    "        \n",
    "with open('data/yelp_academic_dataset_tip.json') as f:\n",
    "     tip_data = pd.DataFrame(json.loads(line) for line in f)"
   ]
  },
  {
   "cell_type": "code",
   "execution_count": null,
   "metadata": {
    "collapsed": false
   },
   "outputs": [],
   "source": [
    "# First generate the common portion of the dataframe\n",
    "# From user data\n",
    "\n",
    "# Keep total number of reviews/ user as is\n",
    "# Collapse elite into total counts\n",
    "# Keep number of fans as is\n",
    "# Collapse yelping since into an integer(# of days old)\n",
    "\n",
    "elite = [len(x) for x in user_data['elite']]\n",
    "account_age = [(datetime.datetime.now() - x).days for x in pd.to_datetime(user_data['yelping_since'])]"
   ]
  },
  {
   "cell_type": "code",
   "execution_count": null,
   "metadata": {
    "collapsed": false
   },
   "outputs": [],
   "source": [
    "# Look for \"profile\" in compliments - This represents profile likes\n",
    "# Look for \"useful\" in votes - This represents the number of reviews the user has found useful\n",
    "\n",
    "useful_votes = []\n",
    "profile = []\n",
    "\n",
    "compliments = user_data['compliments']\n",
    "\n",
    "for ind in range(len(compliments)):\n",
    "    if 'profile' in compliments[ind]:\n",
    "        profile.append(compliments[ind]['profile'])\n",
    "    else:\n",
    "        profile.append(0)\n",
    "\n",
    "votes = user_data['votes']\n",
    "for ind in range(len(votes)):\n",
    "    if 'useful' in votes[ind]:\n",
    "        useful_votes.append(votes[ind]['useful'])\n",
    "    else:\n",
    "        useful_votes.append(0)"
   ]
  },
  {
   "cell_type": "code",
   "execution_count": null,
   "metadata": {
    "collapsed": false
   },
   "outputs": [],
   "source": [
    "#  Look at tip data to get:\n",
    "# Total # of tips\n",
    "# Total # of tip likes\n",
    "grouped_tips_users = tip_data.groupby('user_id')\n",
    "\n",
    "num_likes = [user_tips['likes'].sum() for key, user_tips in grouped_tips_users]\n",
    "num_tips = [len(user_tips) for key, user_tips in grouped_tips_users ]\n",
    "user_ids = [key for key, user_tips in grouped_tips_users]\n",
    "\n",
    "gen_tip_df = pd.DataFrame(zip(*[user_ids, num_tips, num_likes]))\n",
    "gen_tip_df.columns = ['user_id', 'num_tips', 'num_likes']\n",
    "gen_tip_df = gen_tip_df.set_index('user_id')\n",
    "\n",
    "gen_tip_df.head()"
   ]
  },
  {
   "cell_type": "code",
   "execution_count": null,
   "metadata": {
    "collapsed": false
   },
   "outputs": [],
   "source": [
    "user_df = pd.DataFrame(zip(*[user_data.user_id, user_data.review_count, elite, account_age, user_data.fans, profile, useful_votes]))\n",
    "user_df.columns = ['user_id', 'review_count', 'elite', 'account_age', 'fans', 'profile', 'useful_votes']\n",
    "user_df = user_df.set_index('user_id')\n",
    "\n",
    "user_df.head()"
   ]
  },
  {
   "cell_type": "code",
   "execution_count": null,
   "metadata": {
    "collapsed": false
   },
   "outputs": [],
   "source": [
    "common_df = pd.merge(user_df, gen_tip_df, how='outer',left_index=True, right_index=True)\n",
    "common_df = common_df.fillna(0)\n",
    "common_df.head()"
   ]
  },
  {
   "cell_type": "code",
   "execution_count": null,
   "metadata": {
    "collapsed": false
   },
   "outputs": [],
   "source": [
    "import itertools\n",
    "from collections import Counter\n",
    "category_counts = Counter(itertools.chain.from_iterable(business_data['categories']))\n",
    "category_counts.most_common(20)\n",
    "\n",
    "def find_best(cat_list):\n",
    "    counts = [[x, category_counts[x]] for x in cat_list]\n",
    "    return sorted(counts, key=lambda (cat, count): -count)[0][0]\n",
    "\n",
    "categories = [find_best(cat_list) if len(cat_list) > 0 else None for cat_list in business_data['categories']]\n",
    "print len(set(categories))\n",
    "print set(categories)\n",
    "\n",
    "business_df = pd.DataFrame(zip(*[business_data.business_id, categories]))\n",
    "business_df.columns = ['business_id', 'category']\n",
    "business_df = business_df[~business_df.category.isnull()]\n",
    "business_df = business_df.set_index('business_id')"
   ]
  },
  {
   "cell_type": "code",
   "execution_count": null,
   "metadata": {
    "collapsed": false
   },
   "outputs": [],
   "source": [
    "# Add categories to business data\n",
    "business_data_aug = pd.merge(business_data, business_df, left_on='business_id', right_index=True, how='right')\n",
    "business_data_aug = business_data_aug.fillna(0)\n",
    "\n",
    "# Add categories to tip data\n",
    "tip_data_aug = pd.merge(tip_data, business_df, left_on='business_id', right_index=True, how='right')\n",
    "tip_data_aug = tip_data_aug.fillna(0)\n",
    "\n",
    "# Add categories to reiew data\n",
    "#review_data_aug = pd.merge(review_data, business_df, left_on='business_id', right_index=True, how='right')\n",
    "#review_data_aug = review_data_aug.fillna(0)\n"
   ]
  },
  {
   "cell_type": "code",
   "execution_count": null,
   "metadata": {
    "collapsed": true
   },
   "outputs": [],
   "source": []
  }
 ],
 "metadata": {
  "kernelspec": {
   "display_name": "Python 2",
   "language": "python",
   "name": "python2"
  },
  "language_info": {
   "codemirror_mode": {
    "name": "ipython",
    "version": 2
   },
   "file_extension": ".py",
   "mimetype": "text/x-python",
   "name": "python",
   "nbconvert_exporter": "python",
   "pygments_lexer": "ipython2",
   "version": "2.7.12"
  }
 },
 "nbformat": 4,
 "nbformat_minor": 0
}
