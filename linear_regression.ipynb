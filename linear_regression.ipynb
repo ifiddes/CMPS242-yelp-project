{
 "cells": [
  {
   "cell_type": "markdown",
   "metadata": {},
   "source": [
    "## Linear Regression implementation "
   ]
  },
  {
   "cell_type": "code",
   "execution_count": 1,
   "metadata": {
    "collapsed": true
   },
   "outputs": [],
   "source": [
    "import numpy as np\n",
    "import pandas as pd\n",
    "from scipy.optimize import minimize\n",
    "import random"
   ]
  },
  {
   "cell_type": "code",
   "execution_count": 2,
   "metadata": {
    "collapsed": false
   },
   "outputs": [],
   "source": [
    "csv = pd.read_csv('http://www-bcf.usc.edu/~gareth/ISL/Advertising.csv', index_col=0)"
   ]
  },
  {
   "cell_type": "code",
   "execution_count": 3,
   "metadata": {
    "collapsed": false
   },
   "outputs": [],
   "source": [
    "data = csv[['TV', 'Radio', 'Newspaper']]\n",
    "target = csv['Sales']"
   ]
  },
  {
   "cell_type": "code",
   "execution_count": 4,
   "metadata": {
    "collapsed": false
   },
   "outputs": [],
   "source": [
    "def cost(theta, X, y):\n",
    "    X = np.matrix(X)\n",
    "    \n",
    "    y = np.matrix(y)\n",
    "    \n",
    "    N = y.size\n",
    "    \n",
    "    y_hat = X.dot(theta.T)\n",
    "    \n",
    "    SOS = np.power( np.subtract( y_hat, y ), 2 ).sum()\n",
    "    \n",
    "    cost = (1.0 / (2 * N)) * SOS\n",
    "    \n",
    "    return cost"
   ]
  },
  {
   "cell_type": "code",
   "execution_count": 7,
   "metadata": {
    "collapsed": false
   },
   "outputs": [],
   "source": [
    "class LinearRegression(object):\n",
    "    def __init__(self):\n",
    "        self.theta = None\n",
    "        \n",
    "    def train(self, X, y):\n",
    "        rows, columns = X.shape\n",
    "        self.theta = np.matrix([random.random() for _ in xrange(columns)])\n",
    "        weights = minimize( cost, self.theta, (X, y) )\n",
    "        print weights\n",
    "        "
   ]
  },
  {
   "cell_type": "code",
   "execution_count": 8,
   "metadata": {
    "collapsed": false
   },
   "outputs": [
    {
     "name": "stdout",
     "output_type": "stream",
     "text": [
      "      fun: 2708.5743750005436\n",
      " hess_inv: array([[  3.42408138e-02,  -9.35292523e-05,  -3.92477123e-04,\n",
      "         -2.08088217e-04],\n",
      "       [ -9.35292523e-05,   6.84883843e-07,  -1.57696478e-07,\n",
      "         -1.14834734e-07],\n",
      "       [ -3.92477123e-04,  -1.57696478e-07,   2.60982712e-05,\n",
      "         -6.26593264e-06],\n",
      "       [ -2.08088217e-04,  -1.14834734e-07,  -6.26593264e-06,\n",
      "          1.21335994e-05]])\n",
      "      jac: array([ 0.,  0.,  0.,  0.])\n",
      "  message: 'Optimization terminated successfully.'\n",
      "     nfev: 90\n",
      "      nit: 9\n",
      "     njev: 15\n",
      "   status: 0\n",
      "  success: True\n",
      "        x: array([  1.40225041e+01,  -2.69743577e-08,  -4.47984639e-10,\n",
      "        -8.70076224e-09])\n"
     ]
    }
   ],
   "source": [
    "linReg = LinearRegression()\n",
    "\n",
    "X = data.as_matrix()\n",
    "rows, columns = X.shape\n",
    "X = np.insert(X, 0, 1, axis=1)\n",
    "y = np.matrix(target).T\n",
    "linReg.train(X, y)"
   ]
  },
  {
   "cell_type": "code",
   "execution_count": null,
   "metadata": {
    "collapsed": true
   },
   "outputs": [],
   "source": []
  },
  {
   "cell_type": "code",
   "execution_count": null,
   "metadata": {
    "collapsed": true
   },
   "outputs": [],
   "source": []
  }
 ],
 "metadata": {
  "kernelspec": {
   "display_name": "Python 2",
   "language": "python",
   "name": "python2"
  },
  "language_info": {
   "codemirror_mode": {
    "name": "ipython",
    "version": 2
   },
   "file_extension": ".py",
   "mimetype": "text/x-python",
   "name": "python",
   "nbconvert_exporter": "python",
   "pygments_lexer": "ipython2",
   "version": "2.7.12"
  }
 },
 "nbformat": 4,
 "nbformat_minor": 0
}
